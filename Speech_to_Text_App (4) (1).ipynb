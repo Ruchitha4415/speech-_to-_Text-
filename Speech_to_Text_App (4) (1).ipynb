{
 "cells": [
  {
   "cell_type": "markdown",
   "id": "4219ed1c",
   "metadata": {},
   "source": [
    "# 🎙️ Speech-to-Text Transcription App (Google Colab)\n",
    "This notebook lets you upload or record audio and transcribe it into text using OpenAI Whisper."
   ]
  },
  {
   "cell_type": "markdown",
   "id": "17fe2b14",
   "metadata": {},
   "source": [
    "## 1️⃣ Install Dependencies"
   ]
  },
  {
   "cell_type": "code",
   "execution_count": null,
   "id": "371d37fc",
   "metadata": {},
   "outputs": [],
   "source": [
    "!pip install -q openai-whisper gradio soundfile pydub\n",
    "!apt-get install -y -qq ffmpeg"
   ]
  },
  {
   "cell_type": "markdown",
   "id": "df367e2f",
   "metadata": {},
   "source": [
    "## 2️⃣ Import Libraries"
   ]
  },
  {
   "cell_type": "code",
   "execution_count": null,
   "id": "f3acf4e9",
   "metadata": {},
   "outputs": [],
   "source": [
    "import whisper\n",
    "import gradio as gr\n",
    "from pathlib import Path"
   ]
  },
  {
   "cell_type": "markdown",
   "id": "6ce15f72",
   "metadata": {},
   "source": [
    "## 3️⃣ Define Transcription Function"
   ]
  },
  {
   "cell_type": "code",
   "execution_count": null,
   "id": "42b66893",
   "metadata": {},
   "outputs": [],
   "source": [
    "def transcribe_whisper(audio_path, model_name=\"base\"):\n",
    "    model = whisper.load_model(model_name)\n",
    "    result = model.transcribe(audio_path)\n",
    "    text = result.get(\"text\", \"\").strip()\n",
    "    return text"
   ]
  },
  {
   "cell_type": "markdown",
   "id": "84a68c51",
   "metadata": {},
   "source": [
    "## 4️⃣ Helper Function to Save Transcript"
   ]
  },
  {
   "cell_type": "code",
   "execution_count": null,
   "id": "71a2e750",
   "metadata": {},
   "outputs": [],
   "source": [
    "def save_transcript(text, filename=\"transcript.txt\"):\n",
    "    Path(filename).write_text(text, encoding=\"utf-8\")\n",
    "    return filename"
   ]
  },
  {
   "cell_type": "markdown",
   "id": "d0eec35b",
   "metadata": {},
   "source": [
    "## 5️⃣ Build & Launch Gradio App"
   ]
  },
  {
   "cell_type": "code",
   "execution_count": null,
   "id": "4578a425",
   "metadata": {},
   "outputs": [],
   "source": [
    "def gradio_transcribe(audio_file, model_name):\n",
    "    if audio_file is None:\n",
    "        return \"No audio provided\", None\n",
    "    text = transcribe_whisper(audio_file, model_name)\n",
    "    file_path = save_transcript(text)\n",
    "    return text, file_path\n",
    "\n",
    "iface = gr.Interface(\n",
    "    fn=gradio_transcribe,\n",
    "    inputs=[\n",
    "        gr.Audio(source=\"upload\", type=\"filepath\", label=\"Upload/Record Audio\"),\n",
    "        gr.Dropdown([\"tiny\", \"base\", \"small\", \"medium\"], value=\"base\", label=\"Model Size\")\n",
    "    ],\n",
    "    outputs=[\n",
    "        gr.Textbox(label=\"Transcript\"),\n",
    "        gr.File(label=\"Download Transcript\")\n",
    "    ],\n",
    "    title=\"Speech-to-Text App (Whisper)\"\n",
    ")\n",
    "\n",
    "iface.launch(share=False)"
   ]
  },
  {
   "cell_type": "markdown",
   "id": "ad595528",
   "metadata": {},
   "source": [
    "## ℹ️ Notes\n",
    "- `tiny` → fastest, less accurate\n",
    "- `base` → balanced\n",
    "- `small` / `medium` → slower, more accurate\n",
    "\n",
    "Upload audio in `.wav`, `.mp3`, or `.m4a` formats."
   ]
  }
 ],
 "metadata": {},
 "nbformat": 4,
 "nbformat_minor": 5
}
